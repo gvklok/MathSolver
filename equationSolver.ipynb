{
 "cells": [
  {
   "cell_type": "code",
   "execution_count": 2,
   "id": "a7fd43aa",
   "metadata": {},
   "outputs": [],
   "source": [
    "import torch\n",
    "import torch.nn as nn\n",
    "from torchvision import transforms, datasets\n",
    "from PIL import Image\n",
    "import cv2\n",
    "import numpy as np\n",
    "import matplotlib.pyplot as plt\n",
    "import ast # For safe evaluation\n",
    "import random\n",
    "import os\n",
    "import random\n",
    "import numpy as np"
   ]
  },
  {
   "cell_type": "code",
   "execution_count": 3,
   "id": "b6ce3c0f",
   "metadata": {},
   "outputs": [
    {
     "name": "stdout",
     "output_type": "stream",
     "text": [
      "Trained model loaded.\n",
      "Class names: ['decimal', 'divide', 'eight', 'equal', 'five', 'four', 'minus', 'nine', 'one', 'plus', 'seven', 'six', 'three', 'times', 'two', 'zero']\n"
     ]
    },
    {
     "name": "stderr",
     "output_type": "stream",
     "text": [
      "/var/folders/5p/9g5d24r916j78rp17ymd9l0w0000gn/T/ipykernel_47455/1441623411.py:42: FutureWarning: You are using `torch.load` with `weights_only=False` (the current default value), which uses the default pickle module implicitly. It is possible to construct malicious pickle data which will execute arbitrary code during unpickling (See https://github.com/pytorch/pytorch/blob/main/SECURITY.md#untrusted-models for more details). In a future release, the default value for `weights_only` will be flipped to `True`. This limits the functions that could be executed during unpickling. Arbitrary objects will no longer be allowed to be loaded via this mode unless they are explicitly allowlisted by the user via `torch.serialization.add_safe_globals`. We recommend you start setting `weights_only=True` for any use case where you don't have full control of the loaded file. Please open an issue on GitHub for any issues related to this experimental feature.\n",
      "  model.load_state_dict(torch.load('/Users/gvklok/Documents/CST-425/MathSolver/character_recognizer.pth'))\n"
     ]
    }
   ],
   "source": [
    "# Define the CNN architecture (must be the same as during training)\n",
    "class CharacterRecognizerCNN(nn.Module):\n",
    "    def __init__(self, num_classes):\n",
    "        super(CharacterRecognizerCNN, self).__init__()\n",
    "        self.conv1 = nn.Conv2d(1, 32, kernel_size=3, padding=1)\n",
    "        self.relu1 = nn.ReLU()\n",
    "        self.pool1 = nn.MaxPool2d(kernel_size=2, stride=2)\n",
    "\n",
    "        self.conv2 = nn.Conv2d(32, 64, kernel_size=3, padding=1)\n",
    "        self.relu2 = nn.ReLU()\n",
    "        self.pool2 = nn.MaxPool2d(kernel_size=2, stride=2)\n",
    "\n",
    "        self.conv3 = nn.Conv2d(64, 128, kernel_size=3, padding=1)\n",
    "        self.relu3 = nn.ReLU()\n",
    "        self.pool3 = nn.MaxPool2d(kernel_size=2, stride=2)\n",
    "\n",
    "        self.fc1_input_size = 128 * (45 // (2**3)) * (45 // (2**3)) # Assuming img_size = 45\n",
    "        self.fc1 = nn.Linear(self.fc1_input_size, 512)\n",
    "        self.relu4 = nn.ReLU()\n",
    "        self.fc2 = nn.Linear(512, num_classes)\n",
    "\n",
    "        self.img_size = 45\n",
    "\n",
    "    def forward(self, x):\n",
    "        x = self.pool1(self.relu1(self.conv1(x)))\n",
    "        x = self.pool2(self.relu2(self.conv2(x)))\n",
    "        x = self.pool3(self.relu3(self.conv3(x)))\n",
    "        x = x.view(-1, self.fc1_input_size)\n",
    "        x = self.relu4(self.fc1(x))\n",
    "        x = self.fc2(x)\n",
    "        return x\n",
    "\n",
    "# Load the class names (important for mapping predictions back to characters)\n",
    "data_dir = '/Users/gvklok/Documents/CST-425/MathSolver/Dataset' # Adjust if needed\n",
    "train_dir = os.path.join(data_dir, 'train')\n",
    "train_dataset = datasets.ImageFolder(train_dir) # No transform needed here\n",
    "class_names = train_dataset.classes\n",
    "num_classes = len(class_names)\n",
    "\n",
    "# Load the trained model\n",
    "model = CharacterRecognizerCNN(num_classes)\n",
    "model.load_state_dict(torch.load('/Users/gvklok/Documents/CST-425/MathSolver/character_recognizer.pth'))\n",
    "model.eval() # Set the model to evaluation mode for inference\n",
    "\n",
    "device = torch.device(\"mps\" if torch.backends.mps.is_available() else \"cpu\")\n",
    "model.to(device)\n",
    "\n",
    "print(\"Trained model loaded.\")\n",
    "print(f\"Class names: {class_names}\")"
   ]
  },
  {
   "cell_type": "code",
   "execution_count": 12,
   "id": "2e7cbbc2",
   "metadata": {},
   "outputs": [
    {
     "name": "stdout",
     "output_type": "stream",
     "text": [
      "Generated test equation: 2-2/1=0.0\n"
     ]
    }
   ],
   "source": [
    "def equation_generator(numbers=2, max_num=10):\n",
    "    assert numbers > 1, \"You need at least two numbers to generate a valid equation\"\n",
    "    # Generate numbers and operators\n",
    "    generated_eqn = []\n",
    "    operators = ['+', '-', '*', '/'] # Include division\n",
    "    for _ in range(numbers):\n",
    "        gen_num = np.random.randint(1, max_num + 1) # Avoid zero for division simplicity\n",
    "        generated_eqn.append(str(gen_num))\n",
    "        if _ < numbers - 1:\n",
    "            operator = random.choice(operators)\n",
    "            generated_eqn.append(operator)\n",
    "    # Turn into string\n",
    "    generated_eqn_str = ''.join(generated_eqn)\n",
    "    try:\n",
    "        ans = eval(generated_eqn_str)\n",
    "        ans_string = '=' + str(ans)\n",
    "        return generated_eqn_str + ans_string\n",
    "    except ZeroDivisionError:\n",
    "        return equation_generator(numbers, max_num) # Regenerate if division by zero occurs\n",
    "    except Exception as e:\n",
    "        print(f\"Error evaluating equation: {generated_eqn_str} - {e}\")\n",
    "        return None # Or handle the error as you see fit\n",
    "\n",
    "# Generate a test equation\n",
    "test_equation_with_answer = equation_generator(numbers=3, max_num=10)\n",
    "print(f\"Generated test equation: {test_equation_with_answer}\")"
   ]
  },
  {
   "cell_type": "code",
   "execution_count": 22,
   "id": "32187b5b",
   "metadata": {},
   "outputs": [
    {
     "data": {
      "image/png": "[encoded data removed]",
      "text/plain": [
       "<Figure size 640x480 with 1 Axes>"
      ]
     },
     "metadata": {},
     "output_type": "display_data"
    }
   ],
   "source": [
    "import random\n",
    "from PIL import Image\n",
    "\n",
    "def random_sample_file(directory):\n",
    "    # Randomly selects a file from a directory\n",
    "    files = [f for f in os.listdir(directory) if os.path.isfile(os.path.join(directory, f))]\n",
    "    if not files:\n",
    "        return None\n",
    "    return os.path.join(directory, random.choice(files))\n",
    "\n",
    "def generate_equation_image(equation_string, character_folder_path, target_height=45, crop_bottom_percent=0.1): # Added crop_bottom_percent\n",
    "    digit_map = {\n",
    "        '0': 'zero', '1': 'one', '2': 'two', '3': 'three', '4': 'four',\n",
    "        '5': 'five', '6': 'six', '7': 'seven', '8': 'eight', '9': 'nine'\n",
    "    }\n",
    "    image_list = []\n",
    "    for char in equation_string:\n",
    "        if char in digit_map:\n",
    "            char_folder = os.path.join(character_folder_path, digit_map[char])\n",
    "        elif char == '*':\n",
    "            char_folder = os.path.join(character_folder_path, 'times')\n",
    "        elif char == '/':\n",
    "            char_folder = os.path.join(character_folder_path, 'divide')\n",
    "        elif char == '+':\n",
    "            char_folder = os.path.join(character_folder_path, 'plus')\n",
    "        elif char == '-':\n",
    "            char_folder = os.path.join(character_folder_path, 'minus')\n",
    "        elif char == '=':\n",
    "            char_folder = os.path.join(character_folder_path, 'equal')\n",
    "        elif char == '.':\n",
    "            char_folder = os.path.join(character_folder_path, 'decimal')\n",
    "        else:\n",
    "            print(f\"Warning: Unknown character '{char}' in equation\")\n",
    "            continue\n",
    "\n",
    "        image_file = random_sample_file(char_folder)\n",
    "        if image_file:\n",
    "            img = Image.open(image_file).convert('L') # Open as grayscale\n",
    "            # Resize to target height while maintaining aspect ratio\n",
    "            aspect_ratio = img.width / img.height\n",
    "            new_width = int(target_height * aspect_ratio)\n",
    "            img = img.resize((new_width, target_height))\n",
    "\n",
    "            # Crop from the bottom\n",
    "            crop_pixels = int(target_height * crop_bottom_percent)\n",
    "            img = img.crop((0, 0, img.width, img.height - crop_pixels))\n",
    "\n",
    "            image_list.append(img)\n",
    "        else:\n",
    "            print(f\"Warning: No image found for character '{char}' in '{char_folder}'\")\n",
    "            return None\n",
    "\n",
    "    if not image_list:\n",
    "        return None\n",
    "\n",
    "    # Concatenate images horizontally\n",
    "    total_width = sum(img.width for img in image_list)\n",
    "    max_height = max(img.height for img in image_list)\n",
    "    combined_image = Image.new('L', (total_width, max_height), color=255) # White background\n",
    "\n",
    "    x_offset = 0\n",
    "    for img in image_list:\n",
    "        combined_image.paste(img, (x_offset, 0))\n",
    "        x_offset += img.width\n",
    "\n",
    "    return combined_image\n",
    "\n",
    "# Example usage (you can adjust crop_bottom_percent if needed):\n",
    "character_dataset_path = '/Users/gvklok/Documents/CST-425/MathSolver/Dataset/train' # Adjust this to your training data path\n",
    "if test_equation_with_answer:\n",
    "    equation_image = generate_equation_image(test_equation_with_answer.split('=')[0], character_dataset_path, crop_bottom_percent=0.1) # Crop 10% from the bottom\n",
    "    if equation_image:\n",
    "        plt.imshow(equation_image, cmap='gray')\n",
    "        plt.title(\"Simulated Equation Image\")\n",
    "        plt.axis('off')\n",
    "        plt.show()"
   ]
  },
  {
   "cell_type": "code",
   "execution_count": 14,
   "id": "bca8b479",
   "metadata": {},
   "outputs": [
    {
     "data": {
      "image/png": "[encoded data removed]",
      "text/plain": [
       "<Figure size 640x480 with 1 Axes>"
      ]
     },
     "metadata": {},
     "output_type": "display_data"
    },
    {
     "name": "stdout",
     "output_type": "stream",
     "text": [
      "Detected 6 character regions.\n"
     ]
    }
   ],
   "source": [
    "import cv2\n",
    "import numpy as np\n",
    "\n",
    "def get_overlap(a, b):\n",
    "    return max(0, min(a[1], b[1]) - max(a[0], b[0]))\n",
    "\n",
    "def detect_contours_and_merge(image):\n",
    "    # Convert PIL Image to OpenCV format (NumPy array)\n",
    "    open_cv_image = np.array(image)\n",
    "    # Convert RGB to grayscale if it's a color image\n",
    "    if len(open_cv_image.shape) == 3:\n",
    "        gray = cv2.cvtColor(open_cv_image, cv2.COLOR_RGB2GRAY)\n",
    "    else:\n",
    "        gray = open_cv_image\n",
    "\n",
    "    # Binarize the image\n",
    "    thresh = cv2.adaptiveThreshold(gray, 255, cv2.ADAPTIVE_THRESH_MEAN_C, cv2.THRESH_BINARY_INV, 11, 2)\n",
    "\n",
    "    # Find contours\n",
    "    contours, _ = cv2.findContours(thresh, cv2.RETR_EXTERNAL, cv2.CHAIN_APPROX_SIMPLE)\n",
    "\n",
    "    # Get bounding boxes\n",
    "    rects = [cv2.boundingRect(cnt) for cnt in contours]\n",
    "    if not rects:\n",
    "        return []\n",
    "\n",
    "    # Sort bounding boxes by x-coordinate\n",
    "    rects.sort(key=lambda x: x[0])\n",
    "\n",
    "    # Merge overlapping boxes (simplified for horizontal merging)\n",
    "    merged_rects = []\n",
    "    if rects:\n",
    "        current_rect = list(rects[0])\n",
    "        for i in range(1, len(rects)):\n",
    "            next_rect = list(rects[i])\n",
    "            overlap = get_overlap([current_rect[0], current_rect[0] + current_rect[2]],\n",
    "                                   [next_rect[0], next_rect[0] + next_rect[2]])\n",
    "            if overlap > 5 and abs(current_rect[1] - next_rect[1]) < 10: # Adjust overlap and y-difference thresholds as needed\n",
    "                # Merge horizontally\n",
    "                current_rect[2] = max(current_rect[0] + current_rect[2], next_rect[0] + next_rect[2]) - current_rect[0]\n",
    "                current_rect[1] = min(current_rect[1], next_rect[1])\n",
    "                current_rect[3] = max(current_rect[1] + current_rect[3], next_rect[1] + next_rect[3]) - current_rect[1]\n",
    "            else:\n",
    "                merged_rects.append(tuple(current_rect))\n",
    "                current_rect = list(next_rect)\n",
    "        merged_rects.append(tuple(current_rect))\n",
    "\n",
    "    # Filter out very small boxes (potential noise)\n",
    "    min_area = 20\n",
    "    merged_rects = [(x, y, w, h) for x, y, w, h in merged_rects if w * h > min_area]\n",
    "    return merged_rects\n",
    "\n",
    "# Example usage:\n",
    "if equation_image:\n",
    "    bounding_boxes = detect_contours_and_merge(equation_image)\n",
    "\n",
    "    # Draw bounding boxes on the image for visualization\n",
    "    image_with_boxes = np.array(equation_image).copy()\n",
    "    if len(image_with_boxes.shape) == 2:\n",
    "        image_with_boxes = cv2.cvtColor(image_with_boxes, cv2.COLOR_GRAY2BGR)\n",
    "    else:\n",
    "        image_with_boxes = image_with_boxes.copy()\n",
    "\n",
    "    for x, y, w, h in bounding_boxes:\n",
    "        cv2.rectangle(image_with_boxes, (x, y), (x + w, y + h), (0, 0, 255), 2) # Red boxes\n",
    "\n",
    "    plt.imshow(image_with_boxes)\n",
    "    plt.title(\"Equation Image with Detected Characters\")\n",
    "    plt.axis('off')\n",
    "    plt.show()\n",
    "\n",
    "    print(f\"Detected {len(bounding_boxes)} character regions.\")"
   ]
  },
  {
   "cell_type": "code",
   "execution_count": null,
   "id": "a62685d5",
   "metadata": {},
   "outputs": [
    {
     "data": {
      "image/png": "[encoded data removed]",
      "text/plain": [
       "<Figure size 640x480 with 1 Axes>"
      ]
     },
     "metadata": {},
     "output_type": "display_data"
    },
    {
     "name": "stdout",
     "output_type": "stream",
     "text": [
      "Detected 6 character regions.\n"
     ]
    }
   ],
   "source": [
    "import cv2\n",
    "import numpy as np\n",
    "\n",
    "def get_overlap(a, b):\n",
    "    return max(0, min(a[1], b[1]) - max(a[0], b[0]))\n",
    "\n",
    "def detect_contours_and_merge(image):\n",
    "    # Convert PIL Image to OpenCV format (NumPy array)\n",
    "    open_cv_image = np.array(image)\n",
    "    # Convert RGB to grayscale if it's a color image\n",
    "    if len(open_cv_image.shape) == 3:\n",
    "        gray = cv2.cvtColor(open_cv_image, cv2.COLOR_RGB2GRAY)\n",
    "    else:\n",
    "        gray = open_cv_image\n",
    "\n",
    "    # Binarize the image\n",
    "    thresh = cv2.adaptiveThreshold(gray, 255, cv2.ADAPTIVE_THRESH_MEAN_C, cv2.THRESH_BINARY_INV, 11, 2)\n",
    "\n",
    "    # Find contours\n",
    "    contours, _ = cv2.findContours(thresh, cv2.RETR_EXTERNAL, cv2.CHAIN_APPROX_SIMPLE)\n",
    "\n",
    "    # Get bounding boxes\n",
    "    rects = [cv2.boundingRect(cnt) for cnt in contours]\n",
    "    if not rects:\n",
    "        return []\n",
    "\n",
    "    # Sort bounding boxes by x-coordinate\n",
    "    rects.sort(key=lambda x: x[0])\n",
    "\n",
    "    # Merge overlapping boxes (simplified for horizontal merging)\n",
    "    merged_rects = []\n",
    "    if rects:\n",
    "        current_rect = list(rects[0])\n",
    "        for i in range(1, len(rects)):\n",
    "            next_rect = list(rects[i])\n",
    "            overlap = get_overlap([current_rect[0], current_rect[0] + current_rect[2]],\n",
    "                                   [next_rect[0], next_rect[0] + next_rect[2]])\n",
    "            if overlap > 5 and abs(current_rect[1] - next_rect[1]) < 10: # Adjust overlap and y-difference thresholds as needed\n",
    "                # Merge horizontally\n",
    "                current_rect[2] = max(current_rect[0] + current_rect[2], next_rect[0] + next_rect[2]) - current_rect[0]\n",
    "                current_rect[1] = min(current_rect[1], next_rect[1])\n",
    "                current_rect[3] = max(current_rect[1] + current_rect[3], next_rect[1] + next_rect[3]) - current_rect[1]\n",
    "            else:\n",
    "                merged_rects.append(tuple(current_rect))\n",
    "                current_rect = list(next_rect)\n",
    "        merged_rects.append(tuple(current_rect))\n",
    "\n",
    "    # Filter out very small boxes (potential noise)\n",
    "    min_area = 20\n",
    "    merged_rects = [(x, y, w, h) for x, y, w, h in merged_rects if w * h > min_area]\n",
    "    return merged_rects\n",
    "\n",
    "# Example usage:\n",
    "if equation_image:\n",
    "    bounding_boxes = detect_contours_and_merge(equation_image)\n",
    "\n",
    "    # Draw bounding boxes on the image for visualization\n",
    "    image_with_boxes = np.array(equation_image).copy()\n",
    "    if len(image_with_boxes.shape) == 2:\n",
    "        image_with_boxes = cv2.cvtColor(image_with_boxes, cv2.COLOR_GRAY2BGR)\n",
    "    else:\n",
    "        image_with_boxes = image_with_boxes.copy()\n",
    "\n",
    "    for x, y, w, h in bounding_boxes:\n",
    "        cv2.rectangle(image_with_boxes, (x, y), (x + w, y + h), (0, 0, 255), 2) # Red boxes\n",
    "\n",
    "    plt.imshow(image_with_boxes)\n",
    "    plt.title(\"Equation Image with Detected Characters\")\n",
    "    plt.axis('off')\n",
    "    plt.show()\n",
    "\n",
    "    print(f\"Detected {len(bounding_boxes)} character regions.\")"
   ]
  },
  {
   "cell_type": "code",
   "execution_count": null,
   "id": "ef9e7ada",
   "metadata": {},
   "outputs": [
    {
     "data": {
      "image/png": "[encoded data removed]",
      "text/plain": [
       "<Figure size 640x480 with 1 Axes>"
      ]
     },
     "metadata": {},
     "output_type": "display_data"
    },
    {
     "name": "stdout",
     "output_type": "stream",
     "text": [
      "Detected 6 character regions.\n"
     ]
    }
   ],
   "source": [
    "import cv2\n",
    "import numpy as np\n",
    "\n",
    "def get_overlap(a, b):\n",
    "    return max(0, min(a[1], b[1]) - max(a[0], b[0]))\n",
    "\n",
    "def detect_contours_and_merge(image):\n",
    "    # Convert PIL Image to OpenCV format (NumPy array)\n",
    "    open_cv_image = np.array(image)\n",
    "    # Convert RGB to grayscale if it's a color image\n",
    "    if len(open_cv_image.shape) == 3:\n",
    "        gray = cv2.cvtColor(open_cv_image, cv2.COLOR_RGB2GRAY)\n",
    "    else:\n",
    "        gray = open_cv_image\n",
    "\n",
    "    # Binarize the image\n",
    "    thresh = cv2.adaptiveThreshold(gray, 255, cv2.ADAPTIVE_THRESH_MEAN_C, cv2.THRESH_BINARY_INV, 11, 2)\n",
    "\n",
    "    # Find contours\n",
    "    contours, _ = cv2.findContours(thresh, cv2.RETR_EXTERNAL, cv2.CHAIN_APPROX_SIMPLE)\n",
    "\n",
    "    # Get bounding boxes\n",
    "    rects = [cv2.boundingRect(cnt) for cnt in contours]\n",
    "    if not rects:\n",
    "        return []\n",
    "\n",
    "    # Sort bounding boxes by x-coordinate\n",
    "    rects.sort(key=lambda x: x[0])\n",
    "\n",
    "    # Merge overlapping boxes (simplified for horizontal merging)\n",
    "    merged_rects = []\n",
    "    if rects:\n",
    "        current_rect = list(rects[0])\n",
    "        for i in range(1, len(rects)):\n",
    "            next_rect = list(rects[i])\n",
    "            overlap = get_overlap([current_rect[0], current_rect[0] + current_rect[2]],\n",
    "                                   [next_rect[0], next_rect[0] + next_rect[2]])\n",
    "            if overlap > 5 and abs(current_rect[1] - next_rect[1]) < 10: # Adjust overlap and y-difference thresholds as needed\n",
    "                # Merge horizontally\n",
    "                current_rect[2] = max(current_rect[0] + current_rect[2], next_rect[0] + next_rect[2]) - current_rect[0]\n",
    "                current_rect[1] = min(current_rect[1], next_rect[1])\n",
    "                current_rect[3] = max(current_rect[1] + current_rect[3], next_rect[1] + next_rect[3]) - current_rect[1]\n",
    "            else:\n",
    "                merged_rects.append(tuple(current_rect))\n",
    "                current_rect = list(next_rect)\n",
    "        merged_rects.append(tuple(current_rect))\n",
    "\n",
    "    # Filter out very small boxes (potential noise)\n",
    "    min_area = 20\n",
    "    merged_rects = [(x, y, w, h) for x, y, w, h in merged_rects if w * h > min_area]\n",
    "    return merged_rects\n",
    "\n",
    "# Example usage:\n",
    "if equation_image:\n",
    "    bounding_boxes = detect_contours_and_merge(equation_image)\n",
    "\n",
    "    # Draw bounding boxes on the image for visualization\n",
    "    image_with_boxes = np.array(equation_image).copy()\n",
    "    if len(image_with_boxes.shape) == 2:\n",
    "        image_with_boxes = cv2.cvtColor(image_with_boxes, cv2.COLOR_GRAY2BGR)\n",
    "    else:\n",
    "        image_with_boxes = image_with_boxes.copy()\n",
    "\n",
    "    for x, y, w, h in bounding_boxes:\n",
    "        cv2.rectangle(image_with_boxes, (x, y), (x + w, y + h), (0, 0, 255), 2) # Red boxes\n",
    "\n",
    "    plt.imshow(image_with_boxes)\n",
    "    plt.title(\"Equation Image with Detected Characters\")\n",
    "    plt.axis('off')\n",
    "    plt.show()\n",
    "\n",
    "    print(f\"Detected {len(bounding_boxes)} character regions.\")"
   ]
  },
  {
   "cell_type": "code",
   "execution_count": null,
   "id": "d701a156",
   "metadata": {},
   "outputs": [
    {
     "data": {
      "image/png": "[encoded data removed]",
      "text/plain": [
       "<Figure size 640x480 with 1 Axes>"
      ]
     },
     "metadata": {},
     "output_type": "display_data"
    },
    {
     "name": "stdout",
     "output_type": "stream",
     "text": [
      "Detected 6 character regions.\n"
     ]
    }
   ],
   "source": [
    "import cv2\n",
    "import numpy as np\n",
    "\n",
    "def get_overlap(a, b):\n",
    "    return max(0, min(a[1], b[1]) - max(a[0], b[0]))\n",
    "\n",
    "def detect_contours_and_merge(image):\n",
    "    # Convert PIL Image to OpenCV format (NumPy array)\n",
    "    open_cv_image = np.array(image)\n",
    "    # Convert RGB to grayscale if it's a color image\n",
    "    if len(open_cv_image.shape) == 3:\n",
    "        gray = cv2.cvtColor(open_cv_image, cv2.COLOR_RGB2GRAY)\n",
    "    else:\n",
    "        gray = open_cv_image\n",
    "\n",
    "    # Binarize the image\n",
    "    thresh = cv2.adaptiveThreshold(gray, 255, cv2.ADAPTIVE_THRESH_MEAN_C, cv2.THRESH_BINARY_INV, 11, 2)\n",
    "\n",
    "    # Find contours\n",
    "    contours, _ = cv2.findContours(thresh, cv2.RETR_EXTERNAL, cv2.CHAIN_APPROX_SIMPLE)\n",
    "\n",
    "    # Get bounding boxes\n",
    "    rects = [cv2.boundingRect(cnt) for cnt in contours]\n",
    "    if not rects:\n",
    "        return []\n",
    "\n",
    "    # Sort bounding boxes by x-coordinate\n",
    "    rects.sort(key=lambda x: x[0])\n",
    "\n",
    "    # Merge overlapping boxes (simplified for horizontal merging)\n",
    "    merged_rects = []\n",
    "    if rects:\n",
    "        current_rect = list(rects[0])\n",
    "        for i in range(1, len(rects)):\n",
    "            next_rect = list(rects[i])\n",
    "            overlap = get_overlap([current_rect[0], current_rect[0] + current_rect[2]],\n",
    "                                   [next_rect[0], next_rect[0] + next_rect[2]])\n",
    "            if overlap > 5 and abs(current_rect[1] - next_rect[1]) < 10: # Adjust overlap and y-difference thresholds as needed\n",
    "                # Merge horizontally\n",
    "                current_rect[2] = max(current_rect[0] + current_rect[2], next_rect[0] + next_rect[2]) - current_rect[0]\n",
    "                current_rect[1] = min(current_rect[1], next_rect[1])\n",
    "                current_rect[3] = max(current_rect[1] + current_rect[3], next_rect[1] + next_rect[3]) - current_rect[1]\n",
    "            else:\n",
    "                merged_rects.append(tuple(current_rect))\n",
    "                current_rect = list(next_rect)\n",
    "        merged_rects.append(tuple(current_rect))\n",
    "\n",
    "    # Filter out very small boxes (potential noise)\n",
    "    min_area = 20\n",
    "    merged_rects = [(x, y, w, h) for x, y, w, h in merged_rects if w * h > min_area]\n",
    "    return merged_rects\n",
    "\n",
    "# Example usage:\n",
    "if equation_image:\n",
    "    bounding_boxes = detect_contours_and_merge(equation_image)\n",
    "\n",
    "    # Draw bounding boxes on the image for visualization\n",
    "    image_with_boxes = np.array(equation_image).copy()\n",
    "    if len(image_with_boxes.shape) == 2:\n",
    "        image_with_boxes = cv2.cvtColor(image_with_boxes, cv2.COLOR_GRAY2BGR)\n",
    "    else:\n",
    "        image_with_boxes = image_with_boxes.copy()\n",
    "\n",
    "    for x, y, w, h in bounding_boxes:\n",
    "        cv2.rectangle(image_with_boxes, (x, y), (x + w, y + h), (0, 0, 255), 2) # Red boxes\n",
    "\n",
    "    plt.imshow(image_with_boxes)\n",
    "    plt.title(\"Equation Image with Detected Characters\")\n",
    "    plt.axis('off')\n",
    "    plt.show()\n",
    "\n",
    "    print(f\"Detected {len(bounding_boxes)} character regions.\")"
   ]
  },
  {
   "cell_type": "code",
   "execution_count": 15,
   "id": "05a75ccd",
   "metadata": {},
   "outputs": [
    {
     "data": {
      "image/png": "[encoded data removed]",
      "text/plain": [
       "<Figure size 640x480 with 1 Axes>"
      ]
     },
     "metadata": {},
     "output_type": "display_data"
    },
    {
     "name": "stdout",
     "output_type": "stream",
     "text": [
      "Recognized: 2\n"
     ]
    },
    {
     "data": {
      "image/png": "[encoded data removed]",
      "text/plain": [
       "<Figure size 640x480 with 1 Axes>"
      ]
     },
     "metadata": {},
     "output_type": "display_data"
    },
    {
     "name": "stdout",
     "output_type": "stream",
     "text": [
      "Recognized: -\n"
     ]
    },
    {
     "data": {
      "image/png": "[encoded data removed]",
      "text/plain": [
       "<Figure size 640x480 with 1 Axes>"
      ]
     },
     "metadata": {},
     "output_type": "display_data"
    },
    {
     "name": "stdout",
     "output_type": "stream",
     "text": [
      "Recognized: 2\n"
     ]
    },
    {
     "data": {
      "image/png": "[encoded data removed]",
      "text/plain": [
       "<Figure size 640x480 with 1 Axes>"
      ]
     },
     "metadata": {},
     "output_type": "display_data"
    },
    {
     "name": "stdout",
     "output_type": "stream",
     "text": [
      "Recognized: equal\n"
     ]
    },
    {
     "data": {
      "image/png": "[encoded data removed]",
      "text/plain": [
       "<Figure size 640x480 with 1 Axes>"
      ]
     },
     "metadata": {},
     "output_type": "display_data"
    },
    {
     "name": "stdout",
     "output_type": "stream",
     "text": [
      "Recognized: 8\n"
     ]
    },
    {
     "data": {
      "image/png": "[encoded data removed]",
      "text/plain": [
       "<Figure size 640x480 with 1 Axes>"
      ]
     },
     "metadata": {},
     "output_type": "display_data"
    },
    {
     "name": "stdout",
     "output_type": "stream",
     "text": [
      "Recognized: 1\n",
      "\n",
      "Recognized Equation: 2 - 2 equal 8 1\n"
     ]
    }
   ],
   "source": [
    "import matplotlib.pyplot as plt\n",
    "# Add the new preprocess_symbol function here\n",
    "def preprocess_symbol(char_roi, target_size=(45, 45), padding=5):\n",
    "    \"\"\"\n",
    "    Process the cropped symbol to maintain its aspect ratio and quality:\n",
    "    1. Create a blank (white) square image of the target size\n",
    "    2. Resize the symbol while maintaining aspect ratio\n",
    "    3. Center the symbol in the blank image\n",
    "    \"\"\"\n",
    "    # Create a white background image\n",
    "    background = np.ones((target_size[0], target_size[1]), dtype=np.uint8) * 255\n",
    "    \n",
    "    # Get dimensions of the character ROI\n",
    "    h, w = char_roi.shape[:2]\n",
    "    \n",
    "    # Calculate the aspect ratio and determine new dimensions\n",
    "    aspect_ratio = w / h\n",
    "    \n",
    "    # Calculate new dimensions while maintaining aspect ratio\n",
    "    # Leave some padding around the character\n",
    "    max_dim = max(target_size) - (padding * 2)\n",
    "    \n",
    "    if aspect_ratio > 1:  # Width is greater than height\n",
    "        new_width = max_dim\n",
    "        new_height = int(new_width / aspect_ratio)\n",
    "    else:  # Height is greater than or equal to width\n",
    "        new_height = max_dim\n",
    "        new_width = int(new_height * aspect_ratio)\n",
    "    \n",
    "    # Resize the character image\n",
    "    resized_char = cv2.resize(char_roi, (new_width, new_height), \n",
    "                             interpolation=cv2.INTER_AREA)\n",
    "    \n",
    "    # Calculate position to center the character in the background\n",
    "    x_offset = (target_size[1] - new_width) // 2\n",
    "    y_offset = (target_size[0] - new_height) // 2\n",
    "    \n",
    "    # Place the character in the center of the background\n",
    "    background[y_offset:y_offset+new_height, x_offset:x_offset+new_width] = resized_char\n",
    "    \n",
    "    return background\n",
    "\n",
    "# Mapping from class names to readable characters\n",
    "symbol_map = {\n",
    "    \"plus\": \"+\",\n",
    "    \"minus\": \"-\",\n",
    "    \"times\": \"×\",\n",
    "    \"divide\": \"÷\",\n",
    "    \"equals\": \"=\",\n",
    "    \"decimal\": \".\",\n",
    "    \"one\": \"1\",\n",
    "    \"two\": \"2\",\n",
    "    \"three\": \"3\",\n",
    "    \"four\": \"4\",\n",
    "    \"five\": \"5\",\n",
    "    \"six\": \"6\",\n",
    "    \"seven\": \"7\",\n",
    "    \"eight\": \"8\",\n",
    "    \"nine\": \"9\",\n",
    "    \"zero\": \"0\",\n",
    "    # Add more if needed\n",
    "}\n",
    "\n",
    "# Define the transformations - MODIFY THIS PART to remove the resize step\n",
    "recognition_transforms = transforms.Compose([\n",
    "    # Removed the resize step since we're handling it in preprocess_symbol\n",
    "    transforms.Grayscale(num_output_channels=1),\n",
    "    transforms.ToTensor(),\n",
    "    transforms.Normalize(mean=[0.5], std=[0.5])\n",
    "])\n",
    "\n",
    "recognized_characters = []\n",
    "if equation_image and bounding_boxes:\n",
    "    open_cv_image = np.array(equation_image)\n",
    "    if len(open_cv_image.shape) == 3:\n",
    "        open_cv_image = cv2.cvtColor(open_cv_image, cv2.COLOR_RGB2GRAY)\n",
    "    for i, (x, y, w, h) in enumerate(sorted(bounding_boxes, key=lambda i: i[0])):\n",
    "        char_roi = open_cv_image[y:y + h, x:x + w]\n",
    "        \n",
    "        # Process the character while maintaining aspect ratio - ADD THIS LINE\n",
    "        processed_char = preprocess_symbol(char_roi)\n",
    "        \n",
    "        # Convert to PIL image - MODIFY THIS LINE\n",
    "        char_pil = Image.fromarray(processed_char)\n",
    "        \n",
    "        # Show the processed character image\n",
    "        plt.imshow(char_pil, cmap='gray')\n",
    "        plt.title(f\"Character #{i + 1}\")\n",
    "        plt.axis('off')\n",
    "        plt.show()\n",
    "        \n",
    "        # Transform and predict with the processed character\n",
    "        input_tensor = recognition_transforms(char_pil).unsqueeze(0).to(device)\n",
    "        with torch.no_grad():\n",
    "            output = model(input_tensor)\n",
    "            _, predicted_idx = torch.max(output, 1)\n",
    "            predicted_label = class_names[predicted_idx[0]]\n",
    "            readable_char = symbol_map.get(predicted_label, predicted_label)\n",
    "            recognized_characters.append(readable_char)\n",
    "            print(f\"Recognized: {readable_char}\")\n",
    "\n",
    "    recognized_equation = \" \".join(recognized_characters)\n",
    "    print(f\"\\nRecognized Equation: {recognized_equation}\")\n",
    "else:\n",
    "    print(\"No equation image or bounding boxes found.\")\n"
   ]
  }
 ],
 "metadata": {
  "kernelspec": {
   "display_name": "425",
   "language": "python",
   "name": "python3"
  },
  "language_info": {
   "codemirror_mode": {
    "name": "ipython",
    "version": 3
   },
   "file_extension": ".py",
   "mimetype": "text/x-python",
   "name": "python",
   "nbconvert_exporter": "python",
   "pygments_lexer": "ipython3",
   "version": "3.11.6"
  }
 },
 "nbformat": 4,
 "nbformat_minor": 5
}
